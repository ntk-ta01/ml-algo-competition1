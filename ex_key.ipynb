{
 "cells": [
  {
   "cell_type": "code",
   "execution_count": 65,
   "metadata": {},
   "outputs": [
    {
     "name": "stdout",
     "output_type": "stream",
     "text": [
      "Index(['type', 'fixed acidity', 'volatile acidity', 'citric acid',\n",
      "       'residual sugar', 'chlorides', 'free sulfur dioxide',\n",
      "       'total sulfur dioxide', 'density', 'pH', 'sulphates', 'alcohol'],\n",
      "      dtype='object')\n"
     ]
    }
   ],
   "source": [
    "import numpy as np\n",
    "import pandas as pd\n",
    "from sklearn.model_selection import train_test_split\n",
    "from sklearn.metrics import mean_squared_error\n",
    "import matplotlib.pyplot as plt\n",
    "%matplotlib inline\n",
    "\n",
    "train = pd.read_csv(\"./train.csv\")\n",
    "features = train.drop(columns=\"quality\")\n",
    "print(features.keys())\n",
    "keys = [\"type\", \"fixed acidity\", \"volatile acidity\", \"citric acid\", \"residual sugar\", \"chlorides\",'free sulfur dioxide',\n",
    "       'total sulfur dioxide', 'density', 'pH', 'sulphates', 'alcohol']\n",
    "\n",
    "dim = len(keys)\n",
    "X_label = np.ndarray(shape=(dim * 3 + 1,len(features)),dtype=float)\n",
    "for i in range(len(features)):\n",
    "    X_label[0][i] = 1.0\n",
    "for d, key in enumerate(keys):\n",
    "    X_label[d + 1] = [x if x != \"red\" and x != \"white\" else (1.0 if x == \"red\" else 0.0) for x in features[key].values]\n",
    "for d, key in enumerate(keys):\n",
    "    X_label[dim + d + 1] = [x * x if x != \"red\" and x != \"white\" else (1.0 if x == \"red\" else 0.0) for x in features[key].values]\n",
    "for d, key in enumerate(keys):\n",
    "    X_label[2 * dim + d + 1] = [x * x * x if x != \"red\" and x != \"white\" else (1.0 if x == \"red\" else 0.0) for x in features[key].values]\n",
    "\n",
    "Y_label = train[\"quality\"].values\n",
    "Y_label = Y_label.reshape((1,len(Y_label)))\n",
    "\n",
    "X_label = X_label.transpose() # train_test_splitするために転置を取る\n",
    "Y_label = Y_label.transpose() # train_test_splitするために転置を取る"
   ]
  },
  {
   "cell_type": "code",
   "execution_count": 66,
   "metadata": {},
   "outputs": [
    {
     "name": "stdout",
     "output_type": "stream",
     "text": [
      "[[ 2.35760643e+01]\n",
      " [ 5.65599116e-02]\n",
      " [ 2.50644013e-02]\n",
      " [-2.80606512e+00]\n",
      " [ 6.85314853e-01]\n",
      " [ 1.66159393e-02]\n",
      " [-6.61511693e-01]\n",
      " [ 3.38291089e-02]\n",
      " [-1.24064945e-02]\n",
      " [-5.36357282e-01]\n",
      " [-2.37552913e+00]\n",
      " [ 8.85279316e-01]\n",
      " [-3.96275198e+00]\n",
      " [ 5.65598101e-02]\n",
      " [-5.53761580e-03]\n",
      " [ 1.52480810e+00]\n",
      " [-1.72394814e+00]\n",
      " [ 3.45139630e-03]\n",
      " [ 1.17610397e-02]\n",
      " [-4.47921643e-04]\n",
      " [ 7.96324559e-05]\n",
      " [-1.05937049e+00]\n",
      " [ 1.08677443e+00]\n",
      " [-2.58592222e-01]\n",
      " [ 3.63820854e-01]\n",
      " [ 5.65598612e-02]\n",
      " [ 3.90483493e-04]\n",
      " [-1.54279655e-01]\n",
      " [ 6.50210740e-01]\n",
      " [-2.06571563e-04]\n",
      " [ 1.84530741e-02]\n",
      " [ 1.34827675e-06]\n",
      " [-1.78942970e-07]\n",
      " [-1.56919377e+00]\n",
      " [-1.47053836e-01]\n",
      " [-6.90814791e-03]\n",
      " [-1.01330438e-02]]\n"
     ]
    }
   ],
   "source": [
    "X_train, X_test, Y_train, Y_test = train_test_split(X_label, Y_label,test_size=0.4655,random_state=212)\n",
    "\n",
    "# print(X_train.shape, X_train)\n",
    "# print(Y_train.shape, Y_train)\n",
    "# print(X_test.shape, X_test)\n",
    "# print(Y_test.shape, Y_test)\n",
    "\n",
    "X_avg = [0] * dim * 3\n",
    "for x in X_train:\n",
    "    for i in range(dim):\n",
    "        if not np.isnan(x[i]):\n",
    "            X_avg[i] += x[i]\n",
    "\n",
    "for i in range(dim):\n",
    "    X_avg[i] /= len(X_train)\n",
    "for i in range(dim):\n",
    "    X_avg[i + dim] = X_avg[i] * X_avg[i]\n",
    "for i in range(dim):\n",
    "    X_avg[i + dim * 2] = X_avg[i + dim] * X_avg[i]\n",
    "\n",
    "for x in X_train:\n",
    "    for i in range(dim * 3):\n",
    "        if np.isnan(x[i + 1]):\n",
    "            x[i + 1] = X_avg[i]\n",
    "\n",
    "X_train = X_train.transpose()\n",
    "# X_test = X_test.transpose()\n",
    "Y_train = Y_train.transpose()\n",
    "# Y_test = Y_test.transpose()\n",
    "\n",
    "B = X_train.dot(Y_train.T)\n",
    "A = X_train.dot(X_train.T)\n",
    "# B = np.where(np.isnan(X_train), 0, X_train).dot(np.where(np.isnan(Y_train.T), 0, Y_train.T))\n",
    "# A = np.where(np.isnan(X_train), 0, X_train).dot(np.where(np.isnan(X_train.T), 0, X_train.T))\n",
    "\n",
    "L = 0.1 # 正則化の程度を決めるハイパーパラメータ\n",
    "LI = np.identity(dim * 3 + 1) * L\n",
    "LI[0][0] = 0\n",
    "\n",
    "AT = np.linalg.inv(A + LI)\n",
    "w = AT.dot(B)\n",
    "print(w)"
   ]
  },
  {
   "cell_type": "code",
   "execution_count": 67,
   "metadata": {},
   "outputs": [
    {
     "name": "stdout",
     "output_type": "stream",
     "text": [
      "MSE test data:  1.24933691137297\n"
     ]
    }
   ],
   "source": [
    "Y_test_pred = np.array([sum((x[i] if not np.isnan(x[i]) else X_avg[i-1])*w[i] for i in range(len(x)))[0] for x in X_test])\n",
    "print('MSE test data: ', mean_squared_error(Y_test, Y_test_pred))"
   ]
  },
  {
   "cell_type": "code",
   "execution_count": 71,
   "metadata": {},
   "outputs": [],
   "source": [
    "# output prediction for the test data\n",
    "test = pd.read_csv(\"./test.csv\")"
   ]
  },
  {
   "cell_type": "code",
   "execution_count": 69,
   "metadata": {},
   "outputs": [],
   "source": [
    "submission = pd.read_csv(\"./sample_submission.csv\", index_col=\"id\")\n",
    "submission[\"quality\"] = [w[0][0] + sum(w[i+1][0] * ((test[key][n] if not np.isnan(test[key][n]) else X_avg[i]) if key != \"type\" else (1.0 if test[key][n] == \"red\" else 0.0)) for i, key in enumerate(keys)) for n in range(len(test))]\n",
    "submission.to_csv(\"submission.csv\")"
   ]
  }
 ],
 "metadata": {
  "interpreter": {
   "hash": "31f2aee4e71d21fbe5cf8b01ff0e069b9275f58929596ceb00d14d90e3e16cd6"
  },
  "kernelspec": {
   "display_name": "Python 3.8.10 64-bit",
   "language": "python",
   "name": "python3"
  },
  "language_info": {
   "codemirror_mode": {
    "name": "ipython",
    "version": 3
   },
   "file_extension": ".py",
   "mimetype": "text/x-python",
   "name": "python",
   "nbconvert_exporter": "python",
   "pygments_lexer": "ipython3",
   "version": "3.8.10"
  },
  "orig_nbformat": 4
 },
 "nbformat": 4,
 "nbformat_minor": 2
}
