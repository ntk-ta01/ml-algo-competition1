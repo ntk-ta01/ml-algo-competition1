{
 "cells": [
  {
   "cell_type": "code",
   "execution_count": 15,
   "metadata": {},
   "outputs": [],
   "source": [
    "import numpy as np\n",
    "import pandas as pd"
   ]
  },
  {
   "cell_type": "code",
   "execution_count": 16,
   "metadata": {},
   "outputs": [
    {
     "name": "stdout",
     "output_type": "stream",
     "text": [
      "Index(['type', 'fixed acidity', 'volatile acidity', 'citric acid',\n",
      "       'residual sugar', 'chlorides', 'free sulfur dioxide',\n",
      "       'total sulfur dioxide', 'density', 'pH', 'sulphates', 'alcohol'],\n",
      "      dtype='object')\n"
     ]
    }
   ],
   "source": [
    "train = pd.read_csv(\"./train.csv\")\n",
    "features = train.drop(columns=\"quality\")\n",
    "print(features.keys())\n",
    "keys = [\"fixed acidity\", \"volatile acidity\", \"free sulfur dioxide\", \"density\", \"pH\"]"
   ]
  },
  {
   "cell_type": "code",
   "execution_count": 17,
   "metadata": {},
   "outputs": [],
   "source": [
    "dim = len(keys)"
   ]
  },
  {
   "cell_type": "code",
   "execution_count": 18,
   "metadata": {},
   "outputs": [],
   "source": [
    "X_label = np.ndarray(shape=(1 + dim,len(features)),dtype=float)\n",
    "\n",
    "for i in range(len(features)):\n",
    "    X_label[0][i] = 1.0\n",
    "for d, key in enumerate(keys):\n",
    "    X_label[d+1] = features[key].values\n",
    "\n",
    "Y_label = train[\"quality\"].values\n",
    "Y_label = Y_label.reshape((1,len(Y_label)))\n",
    "# print(X_label.shape,X_label)\n",
    "# print(Y_label.shape,Y_label)"
   ]
  },
  {
   "cell_type": "code",
   "execution_count": 19,
   "metadata": {},
   "outputs": [
    {
     "name": "stdout",
     "output_type": "stream",
     "text": [
      "[[ 9.27432334e+01]\n",
      " [ 8.66468661e-02]\n",
      " [-1.15462894e+00]\n",
      " [ 1.48838426e-03]\n",
      " [-8.88650587e+01]\n",
      " [ 3.69315825e-01]]\n"
     ]
    }
   ],
   "source": [
    "B = np.where(np.isnan(X_label), 0, X_label).dot(np.where(np.isnan(Y_label.T), 0, Y_label.T))\n",
    "A = np.where(np.isnan(X_label), 0, X_label).dot(np.where(np.isnan(X_label.T), 0, X_label.T))\n",
    "AT = np.linalg.inv(A)\n",
    "w = np.where(np.isnan(AT), 0, AT).dot(np.where(np.isnan(B), 0, B))\n",
    "# print(B)\n",
    "# print(A)\n",
    "# print(AT)\n",
    "print(w)"
   ]
  },
  {
   "cell_type": "code",
   "execution_count": 20,
   "metadata": {},
   "outputs": [],
   "source": [
    "# output prediction for the test data\n",
    "test = pd.read_csv(\"./test.csv\")"
   ]
  },
  {
   "cell_type": "code",
   "execution_count": 21,
   "metadata": {},
   "outputs": [],
   "source": [
    "submission = pd.read_csv(\"./sample_submission.csv\", index_col=\"id\")\n",
    "submission[\"quality\"] = [w[0][0] + sum(w[i + 1][0] * test[key][n] for i, key in enumerate(keys)) for n in range(len(test))]\n",
    "submission.to_csv(\"submission.csv\")"
   ]
  }
 ],
 "metadata": {
  "interpreter": {
   "hash": "31f2aee4e71d21fbe5cf8b01ff0e069b9275f58929596ceb00d14d90e3e16cd6"
  },
  "kernelspec": {
   "display_name": "Python 3.8.10 64-bit",
   "name": "python3"
  },
  "language_info": {
   "codemirror_mode": {
    "name": "ipython",
    "version": 3
   },
   "file_extension": ".py",
   "mimetype": "text/x-python",
   "name": "python",
   "nbconvert_exporter": "python",
   "pygments_lexer": "ipython3",
   "version": "3.8.10"
  },
  "orig_nbformat": 4
 },
 "nbformat": 4,
 "nbformat_minor": 2
}
