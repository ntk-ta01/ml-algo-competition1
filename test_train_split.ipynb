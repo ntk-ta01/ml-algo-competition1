{
 "cells": [
  {
   "cell_type": "code",
   "execution_count": 100,
   "metadata": {},
   "outputs": [],
   "source": [
    "import numpy as np\n",
    "import pandas as pd\n",
    "from sklearn.model_selection import train_test_split\n",
    "from sklearn.metrics import mean_squared_error\n",
    "from sklearn.linear_model import LinearRegression\n",
    "import matplotlib.pyplot as plt\n",
    "%matplotlib inline"
   ]
  },
  {
   "cell_type": "code",
   "execution_count": 101,
   "metadata": {},
   "outputs": [
    {
     "name": "stdout",
     "output_type": "stream",
     "text": [
      "Index(['type', 'fixed acidity', 'volatile acidity', 'citric acid',\n",
      "       'residual sugar', 'chlorides', 'free sulfur dioxide',\n",
      "       'total sulfur dioxide', 'density', 'pH', 'sulphates', 'alcohol'],\n",
      "      dtype='object')\n"
     ]
    }
   ],
   "source": [
    "train = pd.read_csv(\"./train.csv\")\n",
    "features = train.drop(columns=\"quality\")\n",
    "print(features.keys())\n",
    "keys = [\"fixed acidity\", \"volatile acidity\", \"free sulfur dioxide\", \"density\", \"pH\"]"
   ]
  },
  {
   "cell_type": "code",
   "execution_count": 102,
   "metadata": {},
   "outputs": [],
   "source": [
    "dim = len(keys)"
   ]
  },
  {
   "cell_type": "code",
   "execution_count": 103,
   "metadata": {},
   "outputs": [],
   "source": [
    "X_label = np.ndarray(shape=(1 + dim,len(features)),dtype=float)\n",
    "\n",
    "for i in range(len(features)):\n",
    "    X_label[0][i] = 1.0\n",
    "for d, key in enumerate(keys):\n",
    "    X_label[d+1] = features[key].values\n",
    "\n",
    "Y_label = train[\"quality\"].values\n",
    "Y_label = Y_label.reshape((1,len(Y_label)))\n",
    "\n",
    "X_label = X_label.transpose() # train_test_splitするために転置を取る\n",
    "Y_label = Y_label.transpose() # train_test_splitするために転置を取る\n",
    "# print(X_label.shape,X_label)\n",
    "# print(Y_label.shape,Y_label)"
   ]
  },
  {
   "cell_type": "code",
   "execution_count": 104,
   "metadata": {},
   "outputs": [],
   "source": [
    "X_train, X_test, Y_train, Y_test = train_test_split(X_label, Y_label,test_size=0.4)\n",
    "X_train = X_train.transpose()\n",
    "# X_test = X_test.transpose()\n",
    "Y_train = Y_train.transpose()\n",
    "# Y_test = Y_test.transpose()\n",
    "# print(X_test.shape, X_test)\n",
    "# print(Y_test.shape, Y_test)"
   ]
  },
  {
   "cell_type": "code",
   "execution_count": 105,
   "metadata": {},
   "outputs": [
    {
     "name": "stdout",
     "output_type": "stream",
     "text": [
      "[[ 9.11065353e+01]\n",
      " [ 9.08028512e-02]\n",
      " [-1.20055909e+00]\n",
      " [ 6.45088276e-04]\n",
      " [-8.75324362e+01]\n",
      " [ 4.70678129e-01]]\n"
     ]
    }
   ],
   "source": [
    "B = np.where(np.isnan(X_train), 0, X_train).dot(np.where(np.isnan(Y_train.T), 0, Y_train.T))\n",
    "A = np.where(np.isnan(X_train), 0, X_train).dot(np.where(np.isnan(X_train.T), 0, X_train.T))\n",
    "\n",
    "L = 0.0 # 正則化の程度を決めるハイパーパラメータ\n",
    "LI = np.identity(1 + dim) * L\n",
    "\n",
    "AT = np.linalg.inv(A + LI)\n",
    "w = np.where(np.isnan(AT), 0, AT).dot(np.where(np.isnan(B), 0, B))\n",
    "# print(B)\n",
    "# print(A)\n",
    "# print(AT)\n",
    "print(w)"
   ]
  },
  {
   "cell_type": "code",
   "execution_count": 106,
   "metadata": {},
   "outputs": [
    {
     "data": {
      "image/png": "[encoded data removed]",
      "text/plain": [
       "<Figure size 432x288 with 1 Axes>"
      ]
     },
     "metadata": {
      "needs_background": "light"
     },
     "output_type": "display_data"
    }
   ],
   "source": [
    "Y_pred = [w[0][0] + sum(w[i + 1][0] * X_test[n][i] for i, _ in enumerate(keys)) for n in range(len(X_test))]\n",
    "plt.scatter(Y_pred, [p - t for p, t in zip(Y_pred, Y_test)], color = 'blue')      # 残差をプロット \n",
    "plt.hlines(y = 0, xmin = -10, xmax = 50, color = 'black') # x軸に沿った直線をプロット\n",
    "plt.title('Residual Plot')                                # 図のタイトル\n",
    "plt.xlabel('Predicted Values')                            # x軸のラベル\n",
    "plt.ylabel('Residuals')                                   # y軸のラベル\n",
    "plt.grid()                                                # グリッド線を表示\n",
    "\n",
    "plt.show()"
   ]
  },
  {
   "cell_type": "code",
   "execution_count": 123,
   "metadata": {},
   "outputs": [
    {
     "name": "stdout",
     "output_type": "stream",
     "text": [
      "MSE train data:  0.656821346283502\n",
      "[[7]\n",
      " [5]\n",
      " [5]\n",
      " ...\n",
      " [6]\n",
      " [6]\n",
      " [5]]\n",
      "MSE test data:  9182074.824839437\n"
     ]
    }
   ],
   "source": [
    "lr = LinearRegression()\n",
    "lr.fit(np.where(np.isnan(X_train.T), 0, X_train.T), Y_train.T)\n",
    "Y_train_pred = lr.predict(np.where(np.isnan(X_train.T), 0, X_train.T)) # 学習データに対する目的変数を予測\n",
    "print('MSE train data: ', mean_squared_error(Y_train.T, Y_train_pred)) # 学習データを用いたときの平均二乗誤差を出力\n",
    "print('MSE test data: ', mean_squared_error(np.where(np.isnan(Y_pred), 0, Y_pred), Y_test))         # 検証データを用いたときの平均二乗誤差を出力"
   ]
  },
  {
   "cell_type": "code",
   "execution_count": null,
   "metadata": {},
   "outputs": [],
   "source": [
    "# output prediction for the test data\n",
    "#test = pd.read_csv(\"./test.csv\")"
   ]
  },
  {
   "cell_type": "code",
   "execution_count": null,
   "metadata": {},
   "outputs": [],
   "source": [
    "#submission = pd.read_csv(\"./sample_submission.csv\", index_col=\"id\")\n",
    "#submission[\"quality\"] = [w[0][0] + sum(w[i + 1][0] * test[key][n] for i, key in enumerate(keys)) for n in range(len(test))]\n",
    "#submission.to_csv(\"submission.csv\")"
   ]
  }
 ],
 "metadata": {
  "interpreter": {
   "hash": "31f2aee4e71d21fbe5cf8b01ff0e069b9275f58929596ceb00d14d90e3e16cd6"
  },
  "kernelspec": {
   "display_name": "Python 3.8.10 64-bit",
   "language": "python",
   "name": "python3"
  },
  "language_info": {
   "codemirror_mode": {
    "name": "ipython",
    "version": 3
   },
   "file_extension": ".py",
   "mimetype": "text/x-python",
   "name": "python",
   "nbconvert_exporter": "python",
   "pygments_lexer": "ipython3",
   "version": "3.8.10"
  },
  "orig_nbformat": 4
 },
 "nbformat": 4,
 "nbformat_minor": 2
}
