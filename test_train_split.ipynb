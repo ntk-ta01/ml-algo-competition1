{
 "cells": [
  {
   "cell_type": "code",
   "execution_count": 189,
   "metadata": {},
   "outputs": [],
   "source": [
    "import numpy as np\n",
    "import pandas as pd\n",
    "from sklearn.model_selection import train_test_split\n",
    "from sklearn.metrics import mean_squared_error\n",
    "from sklearn.linear_model import LinearRegression\n",
    "import matplotlib.pyplot as plt\n",
    "%matplotlib inline"
   ]
  },
  {
   "cell_type": "code",
   "execution_count": 190,
   "metadata": {},
   "outputs": [
    {
     "name": "stdout",
     "output_type": "stream",
     "text": [
      "Index(['type', 'fixed acidity', 'volatile acidity', 'citric acid',\n",
      "       'residual sugar', 'chlorides', 'free sulfur dioxide',\n",
      "       'total sulfur dioxide', 'density', 'pH', 'sulphates', 'alcohol'],\n",
      "      dtype='object')\n"
     ]
    }
   ],
   "source": [
    "train = pd.read_csv(\"./train.csv\")\n",
    "features = train.drop(columns=\"quality\")\n",
    "print(features.keys())\n",
    "keys = [\"type\", \"fixed acidity\", \"volatile acidity\", \"citric acid\", \"residual sugar\", \"chlorides\",'free sulfur dioxide',\n",
    "       'total sulfur dioxide', 'density', 'pH', 'sulphates', 'alcohol']"
   ]
  },
  {
   "cell_type": "code",
   "execution_count": 191,
   "metadata": {},
   "outputs": [],
   "source": [
    "dim = len(keys)"
   ]
  },
  {
   "cell_type": "code",
   "execution_count": 192,
   "metadata": {},
   "outputs": [],
   "source": [
    "X_label = np.ndarray(shape=(dim,len(features)),dtype=float)\n",
    "\n",
    "# for i in range(len(features)):\n",
    "#     X_label[0][i] = 1.0\n",
    "for d, key in enumerate(keys):\n",
    "    X_label[d] = [x if x != \"red\" and x != \"white\" else (1.0 if x == \"red\" else 0.0) for x in features[key].values]\n",
    "\n",
    "Y_label = train[\"quality\"].values\n",
    "Y_label = Y_label.reshape((1,len(Y_label)))\n",
    "\n",
    "X_label = X_label.transpose() # train_test_splitするために転置を取る\n",
    "Y_label = Y_label.transpose() # train_test_splitするために転置を取る\n",
    "# print(X_label.shape,X_label)\n",
    "# print(Y_label.shape,Y_label)"
   ]
  },
  {
   "cell_type": "code",
   "execution_count": 193,
   "metadata": {},
   "outputs": [],
   "source": [
    "X_train, X_test, Y_train, Y_test = train_test_split(X_label, Y_label,test_size=0.4655)\n",
    "# X_train = X_train.transpose()\n",
    "# X_test = X_test.transpose()\n",
    "# Y_train = Y_train.transpose()\n",
    "# Y_test = Y_test.transpose()\n",
    "# print(X_train.shape, X_train)\n",
    "# print(Y_train.shape, Y_train)\n",
    "# print(X_test.shape, X_test)\n",
    "# print(Y_test.shape, Y_test)"
   ]
  },
  {
   "cell_type": "code",
   "execution_count": 194,
   "metadata": {},
   "outputs": [
    {
     "data": {
      "text/plain": [
       "LinearRegression()"
      ]
     },
     "execution_count": 194,
     "metadata": {},
     "output_type": "execute_result"
    }
   ],
   "source": [
    "lr_train = LinearRegression()\n",
    "\n",
    "lr_train.fit(np.where(np.isnan(X_train.astype(np.float)), 0, X_train), Y_train)"
   ]
  },
  {
   "cell_type": "code",
   "execution_count": 195,
   "metadata": {},
   "outputs": [
    {
     "data": {
      "image/png": "[encoded data removed]",
      "text/plain": [
       "<Figure size 432x288 with 1 Axes>"
      ]
     },
     "metadata": {
      "needs_background": "light"
     },
     "output_type": "display_data"
    }
   ],
   "source": [
    "Y_test_pred = lr_train.predict(np.where(np.isnan(X_test.astype(np.float)), 0, X_test))\n",
    "plt.scatter(Y_test_pred, Y_test, color = 'blue')      # 残差をプロット\n",
    "plt.title('Residual Plot')                        # 図のタイトル\n",
    "plt.xlabel('Predicted Values')                    # x軸のラベル\n",
    "plt.ylabel('Residuals')                           # y軸のラベル\n",
    "plt.grid()                                        # グリッド線を表示\n",
    "\n",
    "plt.show()"
   ]
  },
  {
   "cell_type": "code",
   "execution_count": 196,
   "metadata": {},
   "outputs": [
    {
     "name": "stdout",
     "output_type": "stream",
     "text": [
      "MSE train data:  0.52495239277843\n",
      "MSE test data:  0.5590790447306712\n"
     ]
    }
   ],
   "source": [
    "Y_train_pred = lr_train.predict(np.where(np.isnan(X_train.astype(np.float)), 0, X_train))             # 学習データに対する目的変数を予測\n",
    "print('MSE train data: ', mean_squared_error(Y_train, Y_train_pred))                                  # 学習データを用いたときの平均二乗誤差を出力\n",
    "print('MSE test data: ', mean_squared_error(np.where(np.isnan(Y_test_pred), 0, Y_test_pred), Y_test)) # 検証データを用いたときの平均二乗誤差を出力"
   ]
  },
  {
   "cell_type": "code",
   "execution_count": 197,
   "metadata": {},
   "outputs": [],
   "source": [
    "# output prediction for the test data\n",
    "test = pd.read_csv(\"./test.csv\")\n",
    "test = [[test[key][i] if key != \"type\" else (1.0 if test[key][i] == \"red\" else 0.0) for key in keys] for i in range(len(test))]"
   ]
  },
  {
   "cell_type": "code",
   "execution_count": 198,
   "metadata": {},
   "outputs": [],
   "source": [
    "submission = pd.read_csv(\"./sample_submission.csv\", index_col=\"id\")\n",
    "submission[\"quality\"] = lr_train.predict(test)\n",
    "submission.to_csv(\"submission.csv\")"
   ]
  }
 ],
 "metadata": {
  "interpreter": {
   "hash": "31f2aee4e71d21fbe5cf8b01ff0e069b9275f58929596ceb00d14d90e3e16cd6"
  },
  "kernelspec": {
   "display_name": "Python 3.8.10 64-bit",
   "language": "python",
   "name": "python3"
  },
  "language_info": {
   "codemirror_mode": {
    "name": "ipython",
    "version": 3
   },
   "file_extension": ".py",
   "mimetype": "text/x-python",
   "name": "python",
   "nbconvert_exporter": "python",
   "pygments_lexer": "ipython3",
   "version": "3.8.10"
  },
  "orig_nbformat": 4
 },
 "nbformat": 4,
 "nbformat_minor": 2
}
