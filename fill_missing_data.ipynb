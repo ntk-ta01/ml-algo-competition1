{
 "cells": [
  {
   "cell_type": "code",
   "execution_count": 187,
   "metadata": {},
   "outputs": [],
   "source": [
    "import numpy as np\n",
    "import pandas as pd\n",
    "from sklearn.model_selection import train_test_split\n",
    "from sklearn.metrics import mean_squared_error\n",
    "import matplotlib.pyplot as plt\n",
    "%matplotlib inline"
   ]
  },
  {
   "cell_type": "code",
   "execution_count": 188,
   "metadata": {},
   "outputs": [
    {
     "name": "stdout",
     "output_type": "stream",
     "text": [
      "Index(['type', 'fixed acidity', 'volatile acidity', 'citric acid',\n",
      "       'residual sugar', 'chlorides', 'free sulfur dioxide',\n",
      "       'total sulfur dioxide', 'density', 'pH', 'sulphates', 'alcohol'],\n",
      "      dtype='object')\n"
     ]
    }
   ],
   "source": [
    "train = pd.read_csv(\"./train.csv\")\n",
    "features = train.drop(columns=\"quality\")\n",
    "print(features.keys())\n",
    "keys = [\"type\", \"fixed acidity\", \"volatile acidity\", \"citric acid\", \"residual sugar\", \"chlorides\",'free sulfur dioxide',\n",
    "       'total sulfur dioxide', 'density', 'pH', 'sulphates', 'alcohol']"
   ]
  },
  {
   "cell_type": "code",
   "execution_count": 189,
   "metadata": {},
   "outputs": [],
   "source": [
    "dim = len(keys)\n",
    "X_label = np.ndarray(shape=(dim + 1,len(features)),dtype=float)\n",
    "for i in range(len(features)):\n",
    "    X_label[0][i] = 1.0\n",
    "for d, key in enumerate(keys):\n",
    "    X_label[d+1] = [x if x != \"red\" and x != \"white\" else (1.0 if x == \"red\" else 0.0) for x in features[key].values]\n",
    "\n",
    "Y_label = train[\"quality\"].values\n",
    "Y_label = Y_label.reshape((1,len(Y_label)))\n",
    "\n",
    "X_label = X_label.transpose() # train_test_splitするために転置を取る\n",
    "Y_label = Y_label.transpose() # train_test_splitするために転置を取る"
   ]
  },
  {
   "cell_type": "code",
   "execution_count": 190,
   "metadata": {},
   "outputs": [],
   "source": [
    "X_train, X_test, Y_train, Y_test = train_test_split(X_label, Y_label,test_size=0.4655,random_state=212)\n",
    "\n",
    "# print(X_train.shape, X_train)\n",
    "# print(Y_train.shape, Y_train)\n",
    "# print(X_test.shape, X_test)\n",
    "# print(Y_test.shape, Y_test)\n",
    "\n",
    "X_avg = [0] * dim\n",
    "for x in X_train:\n",
    "    for i in range(dim):\n",
    "        if not np.isnan(x[i]):\n",
    "            X_avg[i] += x[i]\n",
    "for i in range(dim):\n",
    "    X_avg[i] /= len(X_train)\n",
    "\n",
    "for x in X_train:\n",
    "    for i in range(dim):\n",
    "        if np.isnan(x[i]):\n",
    "            x[i] = X_avg[i]\n",
    "\n",
    "X_train = X_train.transpose()\n",
    "# X_test = X_test.transpose()\n",
    "Y_train = Y_train.transpose()\n",
    "# Y_test = Y_test.transpose()"
   ]
  },
  {
   "cell_type": "code",
   "execution_count": 191,
   "metadata": {},
   "outputs": [
    {
     "name": "stdout",
     "output_type": "stream",
     "text": [
      "[[ 8.40794100e+01]\n",
      " [ 3.52080460e-01]\n",
      " [ 8.04724157e-02]\n",
      " [-1.54605826e+00]\n",
      " [-2.03898817e-01]\n",
      " [ 5.24615182e-02]\n",
      " [-9.02083863e-01]\n",
      " [ 4.42668366e-03]\n",
      " [-9.77576584e-04]\n",
      " [-8.31294391e+01]\n",
      " [ 3.92315236e-01]\n",
      " [ 5.84816236e-01]\n",
      " [ 2.39976701e-01]]\n"
     ]
    }
   ],
   "source": [
    "B = X_train.dot(Y_train.T)\n",
    "A = X_train.dot(X_train.T)\n",
    "\n",
    "L = 0.00001 # 正則化の程度を決めるハイパーパラメータ\n",
    "LI = np.identity(dim + 1) * L\n",
    "LI[0][0] = 0\n",
    "\n",
    "AT = np.linalg.inv(A + LI)\n",
    "w = AT.dot(B)\n",
    "print(w)"
   ]
  },
  {
   "cell_type": "code",
   "execution_count": 192,
   "metadata": {},
   "outputs": [
    {
     "name": "stdout",
     "output_type": "stream",
     "text": [
      "12 13\n",
      "MSE test data:  0.5468924501738762\n"
     ]
    }
   ],
   "source": [
    "print(len(X_avg), len(X_test[0]))\n",
    "Y_test_pred = np.array([sum((x[i] if not np.isnan(x[i]) else X_avg[i])*w[i] for i in range(len(x)))[0] for x in X_test])\n",
    "print('MSE test data: ', mean_squared_error(Y_test, Y_test_pred))"
   ]
  },
  {
   "cell_type": "code",
   "execution_count": 193,
   "metadata": {},
   "outputs": [],
   "source": [
    "# output prediction for the test data\n",
    "test = pd.read_csv(\"./test.csv\")"
   ]
  },
  {
   "cell_type": "code",
   "execution_count": 194,
   "metadata": {},
   "outputs": [],
   "source": [
    "submission = pd.read_csv(\"./sample_submission.csv\", index_col=\"id\")\n",
    "submission[\"quality\"] = [w[0][0] + sum(w[i+1][0] * ((test[key][n] if not np.isnan(test[key][n]) else X_avg[i+1]) if key != \"type\" else (1.0 if test[key][n] == \"red\" else 0.0)) for i, key in enumerate(keys)) for n in range(len(test))]\n",
    "submission.to_csv(\"submission.csv\")"
   ]
  }
 ],
 "metadata": {
  "interpreter": {
   "hash": "31f2aee4e71d21fbe5cf8b01ff0e069b9275f58929596ceb00d14d90e3e16cd6"
  },
  "kernelspec": {
   "display_name": "Python 3.8.10 64-bit",
   "language": "python",
   "name": "python3"
  },
  "language_info": {
   "codemirror_mode": {
    "name": "ipython",
    "version": 3
   },
   "file_extension": ".py",
   "mimetype": "text/x-python",
   "name": "python",
   "nbconvert_exporter": "python",
   "pygments_lexer": "ipython3",
   "version": "3.8.10"
  },
  "orig_nbformat": 4
 },
 "nbformat": 4,
 "nbformat_minor": 2
}
